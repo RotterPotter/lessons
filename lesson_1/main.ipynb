{
 "cells": [
  {
   "cell_type": "markdown",
   "id": "b007b8f2",
   "metadata": {},
   "source": [
    "# Lesson 1\n",
    "## Backtesting simple strategy (easy way)"
   ]
  },
  {
   "cell_type": "markdown",
   "id": "787c5192",
   "metadata": {},
   "source": [
    "## Description"
   ]
  },
  {
   "cell_type": "markdown",
   "id": "5579eb1f",
   "metadata": {},
   "source": [
    "1. Asset: \n",
    "  - XAUUSD\n",
    "\n",
    "2. Period: \n",
    "  - 2024/06/01 - 2025/01/01\n",
    "\n",
    "3. Entry conditions:\n",
    "  - Time Frame: 30min\n",
    "  - buy at 10:30 AM UTC, if prev candle closed bullish.\n",
    "  - sell at 12:00 AM UTC, if prev candle closed bearish.\n",
    "\n",
    "4. Exit conditions:\n",
    "  - exit after 1 hour.\n",
    "\n",
    "5. Sizing: \n",
    "  - 1lot."
   ]
  },
  {
   "cell_type": "markdown",
   "id": "888fb317",
   "metadata": {},
   "source": [
    "## 0. Imports"
   ]
  },
  {
   "cell_type": "code",
   "execution_count": null,
   "id": "ee91fd52",
   "metadata": {},
   "outputs": [],
   "source": [
    "import pandas as pd\n",
    "import vectorbt as vbt"
   ]
  },
  {
   "cell_type": "markdown",
   "id": "c05334dd",
   "metadata": {},
   "source": [
    "## 1. Data preparation"
   ]
  },
  {
   "cell_type": "code",
   "execution_count": null,
   "id": "9ce908cd",
   "metadata": {},
   "outputs": [],
   "source": [
    "data = pd.read_csv(\"data.csv\", parse_dates=[\"Time\"])\n",
    "data"
   ]
  },
  {
   "cell_type": "markdown",
   "id": "9713ab99",
   "metadata": {},
   "source": [
    "## 2. Entries / Exits "
   ]
  },
  {
   "cell_type": "code",
   "execution_count": null,
   "id": "8b861a76",
   "metadata": {},
   "outputs": [],
   "source": [
    "long_entries = pd.Series(False, index=data.index)\n",
    "short_entries = pd.Series(False, index=data.index)\n",
    "long_exits = pd.Series(False, index=data.index)\n",
    "short_exits = pd.Series(False, index=data.index)"
   ]
  },
  {
   "cell_type": "code",
   "execution_count": null,
   "id": "f240f193",
   "metadata": {},
   "outputs": [],
   "source": [
    "is_bullish_opened = False\n",
    "is_bearish_opened = False\n",
    "\n",
    "for i, candle_data in enumerate(data.itertuples()):\n",
    "  dt = candle_data.Time\n",
    "  time_ = str(dt.time()).split(\":\")\n",
    "\n",
    "  if is_bullish_opened == True:\n",
    "    if float(time_[0]) == 11 and float(time_[1]) == 30:\n",
    "      long_exits.iloc[i] = True\n",
    "      is_bullish_opened = False\n",
    "\n",
    "  if is_bearish_opened == True:\n",
    "    if float(time_[0]) == 13 and float(time_[1]) == 0:\n",
    "      short_exits.iloc[i] = True\n",
    "      is_bearish_opened = False\n",
    "\n",
    "  if float(time_[0]) == 10 and float(time_[1]) == 30: # for bullish entry\n",
    "    prev_row = data.iloc[i-1]\n",
    "    prev_row_open = float(prev_row[\"Open\"].item())\n",
    "    prev_row_close = float(prev_row[\"Close\"].item())\n",
    "\n",
    "    if prev_row_open < prev_row_close: # bullish\n",
    "      long_entries.iloc[i] = True\n",
    "      is_bullish_opened = True\n",
    "\n",
    "  if float(time_[0]) == 12 and float(time_[1]) == 0: # for bearish entry\n",
    "    prev_row = data.iloc[i-1]\n",
    "    prev_row_open = float(prev_row[\"Open\"].item())\n",
    "    prev_row_close = float(prev_row[\"Close\"].item())\n",
    "\n",
    "    if prev_row_open > prev_row_close: # bearish\n",
    "      short_entries.iloc[i] = True\n",
    "      is_bearish_opened = True\n",
    "      "
   ]
  },
  {
   "cell_type": "code",
   "execution_count": null,
   "id": "d7699711",
   "metadata": {},
   "outputs": [],
   "source": [
    "data[long_exits == True]"
   ]
  },
  {
   "cell_type": "markdown",
   "id": "115a65fe",
   "metadata": {},
   "source": [
    "## 3. Backtest"
   ]
  },
  {
   "cell_type": "code",
   "execution_count": null,
   "id": "9fc7a91a",
   "metadata": {},
   "outputs": [],
   "source": [
    "\n",
    "pf = vbt.Portfolio.from_signals(\n",
    "    open=data[\"Open\"],\n",
    "    high=data[\"High\"],\n",
    "    low=data[\"Low\"],\n",
    "    close=data[\"Close\"],\n",
    "    price=data[\"Close\"],\n",
    "    entries=long_entries,\n",
    "    exits=long_exits,\n",
    "    short_entries=short_entries,\n",
    "    short_exits=short_exits,\n",
    "    size=1.0,\n",
    "    fees=0.001,\n",
    "    init_cash=10000,\n",
    "    freq=\"1min\"\n",
    ")\n",
    "\n",
    "print(pf.stats())\n",
    "pf.plot()\n"
   ]
  },
  {
   "cell_type": "code",
   "execution_count": null,
   "id": "8347bd7e",
   "metadata": {},
   "outputs": [],
   "source": [
    "data.iloc[31]"
   ]
  },
  {
   "cell_type": "code",
   "execution_count": null,
   "id": "09b53fd1",
   "metadata": {},
   "outputs": [],
   "source": []
  }
 ],
 "metadata": {
  "kernelspec": {
   "display_name": ".venv",
   "language": "python",
   "name": "python3"
  },
  "language_info": {
   "codemirror_mode": {
    "name": "ipython",
    "version": 3
   },
   "file_extension": ".py",
   "mimetype": "text/x-python",
   "name": "python",
   "nbconvert_exporter": "python",
   "pygments_lexer": "ipython3",
   "version": "3.12.0"
  }
 },
 "nbformat": 4,
 "nbformat_minor": 5
}
